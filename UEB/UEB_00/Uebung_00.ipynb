{
 "cells": [
  {
   "cell_type": "markdown",
   "metadata": {},
   "source": [
    "# Jupyter Notebooks\n",
    "\n",
    "\n",
    "### ShortCuts\n",
    "\n",
    " Cmd + m: Change the cell type to Markdown <br>\n",
    " Cmd + y: Change the cell type to Code <br>\n",
    " Esc + Tab: Enable Intellisense <br>\n"
   ]
  },
  {
   "cell_type": "markdown",
   "metadata": {},
   "source": [
    "# Numpy\n",
    "\n",
    "### Basic Operations \n",
    "\n",
    "Beachte: np.array([1,2,3]) + 5 ≠ np.append(np.array([1,2,3]), 5)"
   ]
  },
  {
   "cell_type": "code",
   "execution_count": 2,
   "metadata": {},
   "outputs": [
    {
     "name": "stdout",
     "output_type": "stream",
     "text": [
      "[6 7 8] [1 2 3 5]\n"
     ]
    }
   ],
   "source": [
    "import numpy as np\n",
    "\n",
    "arr1 = np.array([1,2,3])\n",
    "\n",
    "arr2 = np.array([5,5,5])\n",
    "new_arr1 = arr1 + 5\n",
    "#new_arr1 = arr1 + arr2\n",
    "\n",
    "new_arr2 = np.append(arr1, 5)\n",
    "\n",
    "print(new_arr1, new_arr2)\n",
    "    "
   ]
  },
  {
   "cell_type": "markdown",
   "metadata": {},
   "source": [
    "### Numpy Methods\n"
   ]
  },
  {
   "cell_type": "markdown",
   "metadata": {},
   "source": [
    "Bei np.arange ist das erste Argument inclusive und das zweite exklusive. <br>\n",
    "Daher ist in diesem Fall die 5 der erste Eintrag in unserem Array und die 23 nicht mehr enthalten <br>"
   ]
  },
  {
   "cell_type": "code",
   "execution_count": 3,
   "metadata": {},
   "outputs": [
    {
     "name": "stdout",
     "output_type": "stream",
     "text": [
      "[ 5  7  9 11 13 15 17 19 21]\n"
     ]
    }
   ],
   "source": [
    "print(np.arange(5,23, 2))"
   ]
  },
  {
   "cell_type": "markdown",
   "metadata": {},
   "source": [
    "Hiermit können unsere Arrays mit random floats von 0-1 auffüllen und anschließend die Werte sortieren"
   ]
  },
  {
   "cell_type": "code",
   "execution_count": 4,
   "metadata": {},
   "outputs": [
    {
     "name": "stdout",
     "output_type": "stream",
     "text": [
      "[0.74211104 0.78021441 0.51541656 0.35163044 0.58667898] [0.35163044 0.51541656 0.58667898 0.74211104 0.78021441]\n"
     ]
    }
   ],
   "source": [
    "random_arr = np.random.random(5) \n",
    "sort_arr = np.sort(random_arr)\n",
    "print(random_arr, sort_arr)"
   ]
  },
  {
   "cell_type": "markdown",
   "metadata": {},
   "source": [
    "Mit Linspace können wir uns Linear verteilte werte ausgeben lassen. <br>\n",
    "Auch die ^2 operation wird auf alle Elemente eines numpy Arrays angewendet, somit erhalten wir eine exponentielle Verteilung."
   ]
  },
  {
   "cell_type": "code",
   "execution_count": 5,
   "metadata": {},
   "outputs": [
    {
     "name": "stdout",
     "output_type": "stream",
     "text": [
      "[  1.   4.   9.  16.  25.  36.  49.  64.  81. 100.]\n"
     ]
    }
   ],
   "source": [
    "print(np.linspace(1, 10, 10, dtype=float)**2)"
   ]
  },
  {
   "cell_type": "markdown",
   "metadata": {},
   "source": [
    "### Multi-Dimension\n",
    "Bei np.reshape müssen wir ebenso wie bei anderen mehrdimensionalen Methoden die Größe unseres Arrays berücksichtigen. <br>\n",
    "Wir können also nicht so etwas machen:"
   ]
  },
  {
   "cell_type": "code",
   "execution_count": 6,
   "metadata": {},
   "outputs": [
    {
     "ename": "ValueError",
     "evalue": "cannot reshape array of size 3 into shape (3,2)",
     "output_type": "error",
     "traceback": [
      "\u001b[0;31m---------------------------------------------------------------------------\u001b[0m",
      "\u001b[0;31mValueError\u001b[0m                                Traceback (most recent call last)",
      "\u001b[0;32m<ipython-input-6-4674d585801b>\u001b[0m in \u001b[0;36m<module>\u001b[0;34m\u001b[0m\n\u001b[0;32m----> 1\u001b[0;31m \u001b[0mnp\u001b[0m\u001b[0;34m.\u001b[0m\u001b[0mones\u001b[0m\u001b[0;34m(\u001b[0m\u001b[0;36m3\u001b[0m\u001b[0;34m)\u001b[0m\u001b[0;34m.\u001b[0m\u001b[0mreshape\u001b[0m\u001b[0;34m(\u001b[0m\u001b[0;34m(\u001b[0m\u001b[0;36m3\u001b[0m\u001b[0;34m,\u001b[0m \u001b[0;36m2\u001b[0m\u001b[0;34m)\u001b[0m\u001b[0;34m)\u001b[0m \u001b[0;31m# -> Selber fehler den ich in der Übung gemacht habe\u001b[0m\u001b[0;34m\u001b[0m\u001b[0;34m\u001b[0m\u001b[0m\n\u001b[0m",
      "\u001b[0;31mValueError\u001b[0m: cannot reshape array of size 3 into shape (3,2)"
     ]
    }
   ],
   "source": [
    "np.ones(3).reshape((3, 2)) # -> Selber fehler den ich in der Übung gemacht habe"
   ]
  },
  {
   "cell_type": "markdown",
   "metadata": {},
   "source": [
    "...Denn reshape lässt die .size von unserem Array unverändert ! <br>\n",
    "In diesem Fall versuchen wir unsere 3 Einträge auf 3 Dimensionen zu verteilen (erstes Argument: 3) <br>\n",
    "Allerdings geben wie mit unserem 2. Argument an, dass in jeder Dimension wiederum 2 Einträge sein sollen. <br>\n",
    "Da unserer Array jedoch lediglich aus 3 Einträgen besteht und seine Größe mit reshape unveränderbar bleibt, müssen wie unsere Argumente dementsprechend anpassen:"
   ]
  },
  {
   "cell_type": "code",
   "execution_count": 7,
   "metadata": {},
   "outputs": [
    {
     "name": "stdout",
     "output_type": "stream",
     "text": [
      "[[1.]\n",
      " [1.]\n",
      " [1.]]\n"
     ]
    },
    {
     "data": {
      "text/plain": [
       "array([[1., 1.],\n",
       "       [1., 1.],\n",
       "       [1., 1.]])"
      ]
     },
     "execution_count": 7,
     "metadata": {},
     "output_type": "execute_result"
    }
   ],
   "source": [
    "arr1 = np.ones(3)\n",
    "arr2 = arr1.reshape((3,1))\n",
    "arr3 = np.ones(6).reshape(3,2)\n",
    "\n",
    "print(arr2)\n",
    "arr3"
   ]
  },
  {
   "cell_type": "markdown",
   "metadata": {},
   "source": [
    "# PyPlot"
   ]
  },
  {
   "cell_type": "code",
   "execution_count": 11,
   "metadata": {},
   "outputs": [
    {
     "name": "stdout",
     "output_type": "stream",
     "text": [
      "[[1 1 1]\n",
      " [4 5 6]]\n",
      "[[0.03954476 0.91602608 0.57840469]\n",
      " [0.53702881 0.21864719 0.90249695]\n",
      " [0.12578331 0.96341551 0.15319523]]\n"
     ]
    },
    {
     "data": {
      "image/png": "[encoded data removed]",
      "text/plain": [
       "<Figure size 432x288 with 1 Axes>"
      ]
     },
     "metadata": {
      "needs_background": "light"
     },
     "output_type": "display_data"
    }
   ],
   "source": [
    "import matplotlib.pyplot as plt\n",
    "\n",
    "arr = np.array([1,2,3])\n",
    "arr2 = np.array([[1,1,1],[4,5,6]])\n",
    "print(arr2)\n",
    "\n",
    "arr2 = np.random.random(10)\n",
    "#plt.plot(arr, 'b-', linewidth = 3)\n",
    "#plt.plot(arr2, 'rx')\n",
    "plt.xlabel('X-Achse')\n",
    "\n",
    "arr2D = np.random.random((3,3))\n",
    "\n",
    "plt.imshow(arr2D, cmap='hot')\n",
    "\n",
    "#plt.plot(arr2)\n",
    "\n",
    "print(arr2D)"
   ]
  },
  {
   "cell_type": "code",
   "execution_count": null,
   "metadata": {},
   "outputs": [],
   "source": []
  }
 ],
 "metadata": {
  "kernelspec": {
   "display_name": "Python 3",
   "language": "python",
   "name": "python3"
  },
  "language_info": {
   "codemirror_mode": {
    "name": "ipython",
    "version": 3
   },
   "file_extension": ".py",
   "mimetype": "text/x-python",
   "name": "python",
   "nbconvert_exporter": "python",
   "pygments_lexer": "ipython3",
   "version": "3.7.6"
  }
 },
 "nbformat": 4,
 "nbformat_minor": 4
}
